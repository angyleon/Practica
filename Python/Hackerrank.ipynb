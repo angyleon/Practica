{
 "cells": [
  {
   "cell_type": "markdown",
   "metadata": {},
   "source": [
    "#### Strings"
   ]
  },
  {
   "cell_type": "code",
   "execution_count": 1,
   "metadata": {},
   "outputs": [
    {
     "name": "stdout",
     "output_type": "stream",
     "text": [
      "5\n",
      "9\n",
      "11\n",
      "12\n"
     ]
    }
   ],
   "source": [
    "M = '2 4 5 9'\n",
    "N = '2 4 11 12'\n",
    "\n",
    "a = set (M.split())\n",
    "b= set (N.split())\n",
    "\n",
    "c = a.difference(b)\n",
    "d = b.difference(a)\n",
    "\n",
    "e = c.union(d)\n",
    "\n",
    "print '\\n'.join(sorted(e, key=int))"
   ]
  },
  {
   "cell_type": "code",
   "execution_count": 2,
   "metadata": {},
   "outputs": [],
   "source": [
    "#a,b = [set(raw_input().split()) for _ in range(4)][1::2]\n",
    "#print '\\n'.join(sorted(a^b, key=int))"
   ]
  },
  {
   "cell_type": "code",
   "execution_count": 70,
   "metadata": {},
   "outputs": [
    {
     "name": "stdout",
     "output_type": "stream",
     "text": [
      "1\n"
     ]
    }
   ],
   "source": [
    "n= '3 2'\n",
    "array = '1 5 3'\n",
    "a = '3 1'\n",
    "b = '5 7'\n",
    "\n",
    "arr = array.split()\n",
    "A = set(a.split())\n",
    "B = set(b.split())\n",
    "\n",
    "happiness = 0\n",
    "for i in arr:\n",
    "    if i in A:\n",
    "        happiness+=1\n",
    "    elif i in B:\n",
    "        happiness-=1\n",
    "    else:\n",
    "        happiness+=0\n",
    "print happiness"
   ]
  },
  {
   "cell_type": "code",
   "execution_count": 68,
   "metadata": {},
   "outputs": [
    {
     "name": "stdout",
     "output_type": "stream",
     "text": [
      "3 2\n",
      "1 5 3\n",
      "3 1\n",
      "5 7\n",
      "1\n"
     ]
    }
   ],
   "source": [
    "n, m = raw_input().split()\n",
    "\n",
    "sc_ar = raw_input().split()\n",
    "\n",
    "A = set(raw_input().split())\n",
    "B = set(raw_input().split())\n",
    "print sum([(i in A) - (i in B) for i in sc_ar])"
   ]
  },
  {
   "cell_type": "code",
   "execution_count": 93,
   "metadata": {},
   "outputs": [
    {
     "data": {
      "text/plain": [
       "{'China', 'France', 'New', 'UK', 'USA', 'Zealand'}"
      ]
     },
     "execution_count": 93,
     "metadata": {},
     "output_type": "execute_result"
    }
   ],
   "source": [
    "n=int(raw_input())\n",
    "s=set()\n",
    "for i in range (n):\n",
    "    s.add(raw_input())\n",
    "print(len(s))"
   ]
  },
  {
   "cell_type": "code",
   "execution_count": null,
   "metadata": {},
   "outputs": [],
   "source": []
  },
  {
   "cell_type": "code",
   "execution_count": null,
   "metadata": {
    "collapsed": true
   },
   "outputs": [],
   "source": []
  }
 ],
 "metadata": {
  "kernelspec": {
   "display_name": "Python 2",
   "language": "python",
   "name": "python2"
  },
  "language_info": {
   "codemirror_mode": {
    "name": "ipython",
    "version": 2
   },
   "file_extension": ".py",
   "mimetype": "text/x-python",
   "name": "python",
   "nbconvert_exporter": "python",
   "pygments_lexer": "ipython2",
   "version": "2.7.13"
  }
 },
 "nbformat": 4,
 "nbformat_minor": 2
}
