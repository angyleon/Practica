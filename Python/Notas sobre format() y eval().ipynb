{
 "cells": [
  {
   "cell_type": "markdown",
   "metadata": {},
   "source": [
    "## Ejemplos de .format(), eval(), etc."
   ]
  },
  {
   "cell_type": "code",
   "execution_count": null,
   "metadata": {
    "collapsed": true
   },
   "outputs": [],
   "source": [
    "\n",
    " for x in range(1, 11):\n",
    "    print repr(x).rjust(2), repr(x*x).rjust(3),\n",
    "# notar la coma al final de la linea anterior\n",
    "    print repr(x*x*x).rjust(4)\n",
    "#Da lo mismo si ponemos str, son para volver valores una cadena\n",
    "#Notemos que los números te indican la separación, en este caso es para saber donde va a terminar y que todos esten alineados"
   ]
  },
  {
   "cell_type": "code",
   "execution_count": null,
   "metadata": {
    "collapsed": true
   },
   "outputs": [],
   "source": [
    "# El repr() de una cadena agrega apóstrofos y barras invertidas\n",
    "hola = 'hola mundo\\n'\n",
    "holas = repr(hola)\n",
    "print holas\n",
    "\n",
    "x = 10 * 3.25\n",
    "y = 200 * 200\n",
    "# El argumento de repr() puede ser cualquier objeto Python:\n",
    "repr((x, y, ('carne', 'huevos')))"
   ]
  },
  {
   "cell_type": "code",
   "execution_count": null,
   "metadata": {
    "collapsed": true
   },
   "outputs": [],
   "source": [
    "#Rebanado\n",
    "x=1000000*5\n",
    "y=str(x)\n",
    "y[:3]\n",
    "#funciona solo sobre strings, te da solo los valores hasta donde se los pidas para no hacer tan largas las cifras etc.\n",
    "\n",
    "for x in range(1,11):\n",
    "     print '{0:2d} {1:3d} {2:4d}'.format(x, x*x, x*x*x)"
   ]
  },
  {
   "cell_type": "markdown",
   "metadata": {},
   "source": [
    "## Format()"
   ]
  },
  {
   "cell_type": "code",
   "execution_count": null,
   "metadata": {
    "collapsed": true
   },
   "outputs": [],
   "source": [
    "#FORMAT()\n",
    "#http://docs.python.org.ar/tutorial/2/inputoutput.html\n",
    "print 'Somos los {} quienes decimos \"{}!\"'.format('caballeros', 'Nop')\n",
    "#Las llaves y caracteres dentro de las mismas (llamados campos de formato) son reemplazadas con los de adentro dl parentesis\n",
    "print '{0} y {1}'.format('carne', 'huevos')\n",
    "print '{1} y {0}'.format('carne', 'huevos')\n",
    "#Si se usan argumentos nombrados, sus valores serán referidos usando el nombre del argumento\n",
    "print 'Esta {comida} es {adjetivo}.'.format(comida='carne', adjetivo='espantosa')"
   ]
  },
  {
   "cell_type": "code",
   "execution_count": null,
   "metadata": {
    "collapsed": true
   },
   "outputs": [],
   "source": [
    "#seguimos con format\n",
    "#Se pueden usar '!s' (aplica str()) y '!r' (aplica repr()) para convertir el valor antes de que se formatee.\n",
    "import math\n",
    "print 'El valor de Pi es aproximadamente {}.'.format(math.pi)\n",
    "print 'El valor de Pi es aproximadamente {!r}.'.format(math.pi)\n",
    "\n",
    "#El siguiente ejemplo trunca Pi a tres lugares luego del punto decimal.\n",
    "print 'El valor de PI es aproximadamente {0:.3f}.'.format(math.pi)"
   ]
  },
  {
   "cell_type": "code",
   "execution_count": null,
   "metadata": {
    "collapsed": true
   },
   "outputs": [],
   "source": [
    "#format\n",
    "#Pasando un entero luego del ':' causará que que el campo sea de un mínimo número de caracteres de ancho\n",
    "tabla = {'Sjoerd': 4127, 'Jack': 4098, 'Dcab': 7678}\n",
    "for nombre, telefono in tabla.items():\n",
    "     print '{0:10} ==> {1:10d}'.format(nombre, telefono)"
   ]
  },
  {
   "cell_type": "code",
   "execution_count": null,
   "metadata": {
    "collapsed": true
   },
   "outputs": [],
   "source": [
    "#format\n",
    "#Si tenés una cadena de formateo realmente larga, podría ser bueno que puedas hacer referencia a las variables por el nombre\n",
    "#Esto puede hacerse simplemente pasando el diccionario y usando corchetes '[]' para acceder a las claves\n",
    "tabla = {'Sjoerd': 4127, 'Jack': 4098, 'Dcab': 8637678}\n",
    "print ('Jack: {0[Jack]:d}; Sjoerd: {0[Sjoerd]:d}; Dcab: {0[Dcab]:d}'.format(tabla))\n",
    "#otra forma,pasando la tabla como argumentos nombrados con la notación ‘**’.\n",
    "print 'Jack: {Jack:d}; Sjoerd: {Sjoerd:d}; Dcab: {Dcab:d}'.format(**tabla)\n",
    "print tabla.items()"
   ]
  },
  {
   "cell_type": "code",
   "execution_count": null,
   "metadata": {
    "collapsed": true
   },
   "outputs": [],
   "source": [
    "#metodo alterno a format\n",
    "#El operador % también puede usarse para formateo de cadenas. \n",
    "#Interpreta el argumento de la izquierda con el estilo de formateo de sprintf() para ser aplicado al argumento de la derecha, \n",
    "#y devuelve la cadena resultante de esta operación de formateo. Por ejemplo:\n",
    "\n",
    "import math\n",
    "print 'El valor de PI es aproximadamente %5.3f.' % math.pi\n",
    "#no sé para qué sirve el 5, pero el 3f es para limitar los decimales"
   ]
  },
  {
   "cell_type": "markdown",
   "metadata": {},
   "source": [
    "## Eval()"
   ]
  },
  {
   "cell_type": "code",
   "execution_count": null,
   "metadata": {
    "collapsed": true
   },
   "outputs": [],
   "source": [
    "#Evalua tal cual lo que le pongas con lo que python ya tiene incluido o te pidan en un problema, funciones ya definidas"
   ]
  },
  {
   "cell_type": "code",
   "execution_count": null,
   "metadata": {
    "collapsed": true
   },
   "outputs": [],
   "source": []
  }
 ],
 "metadata": {
  "kernelspec": {
   "display_name": "Python 2",
   "language": "python",
   "name": "python2"
  },
  "language_info": {
   "codemirror_mode": {
    "name": "ipython",
    "version": 2
   },
   "file_extension": ".py",
   "mimetype": "text/x-python",
   "name": "python",
   "nbconvert_exporter": "python",
   "pygments_lexer": "ipython2",
   "version": "2.7.13"
  }
 },
 "nbformat": 4,
 "nbformat_minor": 2
}
